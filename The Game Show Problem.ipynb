{
 "cells": [
  {
   "cell_type": "markdown",
   "metadata": {},
   "source": [
    "## The game show problem"
   ]
  },
  {
   "cell_type": "code",
   "execution_count": null,
   "metadata": {},
   "outputs": [],
   "source": [
    "import numpy as np"
   ]
  },
  {
   "cell_type": "code",
   "execution_count": 48,
   "metadata": {},
   "outputs": [],
   "source": [
    "n_rounds = 100000"
   ]
  },
  {
   "cell_type": "code",
   "execution_count": 49,
   "metadata": {},
   "outputs": [],
   "source": [
    "r = np.random.rand(n_rounds)\n",
    "prize = []\n",
    "for k in r:\n",
    "    if k <= 0.33:\n",
    "        prize.append(1)\n",
    "    elif k <= 0.66:\n",
    "        prize.append(2)\n",
    "    else:\n",
    "        prize.append(3)"
   ]
  },
  {
   "cell_type": "code",
   "execution_count": 50,
   "metadata": {},
   "outputs": [],
   "source": [
    "#prize"
   ]
  },
  {
   "cell_type": "code",
   "execution_count": 51,
   "metadata": {},
   "outputs": [],
   "source": [
    "g = np.random.rand(n_rounds)\n",
    "guess = []\n",
    "for k in g:\n",
    "    if k <= 0.33:\n",
    "        guess.append(1)\n",
    "    elif k <= 0.66:\n",
    "        guess.append(2)\n",
    "    else:\n",
    "        guess.append(3)"
   ]
  },
  {
   "cell_type": "code",
   "execution_count": 52,
   "metadata": {},
   "outputs": [],
   "source": [
    "#guess"
   ]
  },
  {
   "cell_type": "code",
   "execution_count": 53,
   "metadata": {},
   "outputs": [],
   "source": [
    "result_stay = []\n",
    "result_switch = []\n",
    "\n",
    "for k in range(n_rounds):\n",
    "\n",
    "    # stay\n",
    "    if prize[k] == guess[k]:\n",
    "        result_stay.append(1)\n",
    "    else:\n",
    "        result_stay.append(0)\n",
    "        \n",
    "    # switch\n",
    "    if prize[k] != guess[k]:\n",
    "        # then when the host opens a door with the goat, the remaining door we didn't pick as the prize, so we win\n",
    "        result_switch.append(1)\n",
    "    else:\n",
    "        result_switch.append(0)\n",
    "        "
   ]
  },
  {
   "cell_type": "code",
   "execution_count": 54,
   "metadata": {},
   "outputs": [
    {
     "name": "stdout",
     "output_type": "stream",
     "text": [
      "Win stay probability: \t\t0.33259\n",
      "Win switch probability: \t0.66741\n"
     ]
    }
   ],
   "source": [
    "win_stay = sum(result_stay)/n_rounds\n",
    "win_switch = sum(result_switch)/n_rounds\n",
    "\n",
    "print(f'Win stay probability: \\t\\t{win_stay}')\n",
    "print(f'Win switch probability: \\t{win_switch}')"
   ]
  },
  {
   "cell_type": "code",
   "execution_count": null,
   "metadata": {},
   "outputs": [],
   "source": []
  }
 ],
 "metadata": {
  "kernelspec": {
   "display_name": "Python 3",
   "language": "python",
   "name": "python3"
  },
  "language_info": {
   "codemirror_mode": {
    "name": "ipython",
    "version": 3
   },
   "file_extension": ".py",
   "mimetype": "text/x-python",
   "name": "python",
   "nbconvert_exporter": "python",
   "pygments_lexer": "ipython3",
   "version": "3.7.5"
  }
 },
 "nbformat": 4,
 "nbformat_minor": 2
}
