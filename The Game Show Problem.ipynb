{
 "cells": [
  {
   "cell_type": "markdown",
   "metadata": {},
   "source": [
    "## The game show problem\n",
    "\n",
    "This is a classic problem in probability theory.  David Morin's book <i> Probability for the enthusiastic beginner</i> gives a nice overview and solution of the problem, although one should always try to solve the problem before checking out the solution.\n",
    "\n",
    "This notebook takes his advice and plays the game many times and looks at how often the two moves, stay or switch, win.\n",
    "\n",
    "#### Problem: \n",
    "A game show host offers you the choice of three doors. Behind one of these doors is a new car and behind the other two are goats.  The host (who knows what is behind each of the doors) announces that after you select a door (without opening it), he will open one of the other two doors purposefully revealing a goat.  You select a door.  The host then opens one of the other doors and reveals the promised goat. He then offers you the chance to switch your choice to the remaining door. To maximize the probbablity of winning the car, should you switch doors or not?"
   ]
  },
  {
   "cell_type": "code",
   "execution_count": null,
   "metadata": {},
   "outputs": [],
   "source": [
    "import numpy as np"
   ]
  },
  {
   "cell_type": "code",
   "execution_count": null,
   "metadata": {},
   "outputs": [],
   "source": [
    "# set the number of rounds to play\n",
    "\n",
    "n_rounds = 1000000"
   ]
  },
  {
   "cell_type": "code",
   "execution_count": null,
   "metadata": {},
   "outputs": [],
   "source": [
    "# randomly set which door the car is behind\n",
    "\n",
    "r = np.random.rand(n_rounds) # uniform distribution being sampled\n",
    "prize = []\n",
    "for k in r:\n",
    "    if k <= 0.33:\n",
    "        prize.append(1)\n",
    "    elif k <= 0.66:\n",
    "        prize.append(2)\n",
    "    else:\n",
    "        prize.append(3)"
   ]
  },
  {
   "cell_type": "code",
   "execution_count": null,
   "metadata": {},
   "outputs": [],
   "source": [
    "# randomly set which door you choose\n",
    "\n",
    "g = np.random.rand(n_rounds) # uniform distribution being sampled\n",
    "guess = []\n",
    "for k in g:\n",
    "    if k <= 0.33:\n",
    "        guess.append(1)\n",
    "    elif k <= 0.66:\n",
    "        guess.append(2)\n",
    "    else:\n",
    "        guess.append(3)"
   ]
  },
  {
   "cell_type": "code",
   "execution_count": null,
   "metadata": {},
   "outputs": [],
   "source": [
    "# record how many times you win for each strategy\n",
    "\n",
    "result_stay = []\n",
    "result_switch = []\n",
    "for k in range(n_rounds):\n",
    "    # strategy: stay with initial guess\n",
    "    if prize[k] == guess[k]:\n",
    "        result_stay.append(1)\n",
    "    else:\n",
    "        result_stay.append(0)\n",
    "        \n",
    "    # strategy: switch after host reveals a goat\n",
    "    if prize[k] != guess[k]:\n",
    "        # after the host opens a door with the goat, the remaining door we didn't pick initiall \n",
    "        # has the prize, and since we switch, we pick this door and win.\n",
    "        result_switch.append(1)\n",
    "    else:\n",
    "        # we guess the correct door first, but we switch when given the chance, and choose the wrong door.\n",
    "        result_switch.append(0)\n",
    "        "
   ]
  },
  {
   "cell_type": "code",
   "execution_count": null,
   "metadata": {},
   "outputs": [],
   "source": [
    "# calculate the fraction of wins out of plays\n",
    "\n",
    "win_stay = sum(result_stay)/n_rounds\n",
    "win_switch = sum(result_switch)/n_rounds\n",
    "\n",
    "print(f'Win probability of stay strategy: \\t\\t{win_stay}')\n",
    "print(f'Win probability of switch strategy: \\t\\t{win_switch}')"
   ]
  }
 ],
 "metadata": {
  "kernelspec": {
   "display_name": "Python 3",
   "language": "python",
   "name": "python3"
  },
  "language_info": {
   "codemirror_mode": {
    "name": "ipython",
    "version": 3
   },
   "file_extension": ".py",
   "mimetype": "text/x-python",
   "name": "python",
   "nbconvert_exporter": "python",
   "pygments_lexer": "ipython3",
   "version": "3.7.5"
  }
 },
 "nbformat": 4,
 "nbformat_minor": 2
}
