{
 "cells": [
  {
   "cell_type": "markdown",
   "metadata": {},
   "source": [
    "## The birthday problem\n",
    "\n",
    "\n",
    "This is a classic problem in probability theory.  David Morin's book <i> Probability for the enthusiastic beginner</i> gives a nice overview and solution of the problem, although one should always try to solve the problem before checking out the solution.\n",
    "\n",
    "This notebook takes his advice and performs many iterations of the scenario and calculates the percent time that birthdays are duplicated at least one.\n",
    "\n",
    "#### Problem: \n",
    "How many people need to be in a room in order for there to be a greater than 1/2 probability that at least two of them have the same birthday? By \"same birthday\" we mean the same day of the year; the year may differ.  Ignore leap years."
   ]
  },
  {
   "cell_type": "code",
   "execution_count": null,
   "metadata": {},
   "outputs": [],
   "source": [
    "import numpy as np"
   ]
  },
  {
   "cell_type": "code",
   "execution_count": null,
   "metadata": {},
   "outputs": [],
   "source": [
    "# set the number of iterations\n",
    "n_rounds = 100000\n",
    "\n",
    "# set the number of people in the room that get surveyed\n",
    "n_people = 23"
   ]
  },
  {
   "cell_type": "markdown",
   "metadata": {},
   "source": [
    "### Single iteration example"
   ]
  },
  {
   "cell_type": "code",
   "execution_count": null,
   "metadata": {},
   "outputs": [],
   "source": [
    "# create a uniform random sample of n_people from 365 days\n",
    "birthdays = np.random.randint(1,366,n_people)\n",
    "\n",
    "# get all the unique days\n",
    "birthdays_unique = np.unique(birthdays)"
   ]
  },
  {
   "cell_type": "code",
   "execution_count": null,
   "metadata": {},
   "outputs": [],
   "source": [
    "# print the length of the unique days\n",
    "print(f'Total people: {n_people}')\n",
    "print(f'Total unique birthdays: {len(birthdays_unique)}\\n')\n",
    "if len(birthdays_unique) < n_people:\n",
    "    print('>> There is a repeated birthday <<')\n",
    "else:\n",
    "    print('>> There is NOT a repeated birthday <<')\n"
   ]
  },
  {
   "cell_type": "markdown",
   "metadata": {},
   "source": [
    "### Perform many rounds of experiment"
   ]
  },
  {
   "cell_type": "code",
   "execution_count": null,
   "metadata": {},
   "outputs": [],
   "source": [
    "results = []\n",
    "for k in range(n_rounds):\n",
    "    # get sample of birthdays for n_people\n",
    "    birthdays = np.random.randint(1,366,n_people)\n",
    "    \n",
    "    # if the length of the unique birthday list is smaller than n_people, then at least one birthday is repeated\n",
    "    if len(np.unique(birthdays)) < n_people:\n",
    "        results.append(1)\n",
    "    else:\n",
    "        results.append(0)\n",
    "        \n",
    "repeated_portion = sum(results)/n_rounds"
   ]
  },
  {
   "cell_type": "code",
   "execution_count": null,
   "metadata": {},
   "outputs": [],
   "source": [
    "print(f'After {n_rounds} rounds, each containing {n_people} per round:')\n",
    "print(f'at least one birthday was repeated in {repeated_portion*100}% of the rounds')"
   ]
  }
 ],
 "metadata": {
  "kernelspec": {
   "display_name": "Python 3",
   "language": "python",
   "name": "python3"
  },
  "language_info": {
   "codemirror_mode": {
    "name": "ipython",
    "version": 3
   },
   "file_extension": ".py",
   "mimetype": "text/x-python",
   "name": "python",
   "nbconvert_exporter": "python",
   "pygments_lexer": "ipython3",
   "version": "3.7.5"
  }
 },
 "nbformat": 4,
 "nbformat_minor": 2
}
