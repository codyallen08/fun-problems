{
 "cells": [
  {
   "cell_type": "markdown",
   "metadata": {},
   "source": [
    "## The Prosecutor's Fallacy problem\n",
    "\n",
    "\n",
    "This is a classic problem in probability theory.  David Morin's book <i> Probability for the enthusiastic beginner</i> gives a nice overview and solution of the problem, although one should always try to solve the problem before checking out the solution.\n",
    "\n",
    "This notebook takes his advice and performs many iterations of the scenario and calculates the percent time that birthdays are duplicated at least one.\n",
    "\n",
    "#### Problem: \n",
    "Detectives in a city, say San Diego (whose population we will assume to be one million), are working on a crime and have put together a description of the perpetrator, based on things such as height, a tattoo, a limp, an earing, etc.  Let's assume that only one person in 10,000 fits the description.  On a routine patrol the next day, police officers see a person fitting the description.  This person is arrested and brought to trial based solely on the fact that he fits the description.\n",
    "\n",
    "During the trial, the prosecutor tells the jury that since only one person in 10,000 fits the description, it is highly unlikely (far beyond a reasonable doubt) that an innocent person fits the description; it is therefore highly unlikely that the defendant is innocent.  \n",
    "\n",
    "If you were a member of the jury, would you cast a guilty or not-guilty vote?  What is your level of confidence in your decision?"
   ]
  },
  {
   "cell_type": "code",
   "execution_count": null,
   "metadata": {},
   "outputs": [],
   "source": [
    "import numpy as np"
   ]
  },
  {
   "cell_type": "code",
   "execution_count": null,
   "metadata": {},
   "outputs": [],
   "source": [
    "# set the number of iterations\n",
    "n_rounds = int(1e5)\n",
    "\n",
    "# set the number of people in the city\n",
    "n_people = 1e6\n",
    "\n",
    "# odds of random person fitting description\n",
    "odds_random_person_fits_desc = 1/1e4\n",
    "\n",
    "# the number of people who fit the description of the crime\n",
    "n_fit_description = n_people*odds_random_person_fits_desc"
   ]
  },
  {
   "cell_type": "markdown",
   "metadata": {},
   "source": [
    "We assume that for a given person, without any other information, the probability they are guilty of the crime is 1/total_people"
   ]
  },
  {
   "cell_type": "code",
   "execution_count": null,
   "metadata": {},
   "outputs": [],
   "source": [
    "results = []\n",
    "\n",
    "for k in range(n_rounds):\n",
    "    # all people fitting description\n",
    "    guilty_looking = np.random.randint(1,n_people,int(n_fit_description))\n",
    "    \n",
    "    # randomly choose a guilty person from all fitting description\n",
    "    guilty_person_index = np.random.randint(0,len(guilty_looking),1)\n",
    "    \n",
    "    # randomly choose person off the street who fits the description\n",
    "    fits_desc_person_index = np.random.randint(0,len(guilty_looking),1)\n",
    "    \n",
    "    if guilty_person_index == fits_desc_person_index:\n",
    "        results.append(1)\n",
    "    else:\n",
    "        results.append(0)\n",
    "        \n",
    "p_guilty = sum(results)/len(results)"
   ]
  },
  {
   "cell_type": "code",
   "execution_count": null,
   "metadata": {},
   "outputs": [],
   "source": [
    "print(f'Total rounds: \\t\\t\\t\\t\\t\\t\\t\\t{n_rounds}')\n",
    "print(f'Probability the person on trial is guilty: \\t\\t\\t\\t{p_guilty}')\n",
    "print(f'Said differently, probability the person on trial is innocent: \\t\\t{1-p_guilty}')"
   ]
  },
  {
   "cell_type": "code",
   "execution_count": null,
   "metadata": {},
   "outputs": [],
   "source": []
  }
 ],
 "metadata": {
  "kernelspec": {
   "display_name": "Python 3",
   "language": "python",
   "name": "python3"
  },
  "language_info": {
   "codemirror_mode": {
    "name": "ipython",
    "version": 3
   },
   "file_extension": ".py",
   "mimetype": "text/x-python",
   "name": "python",
   "nbconvert_exporter": "python",
   "pygments_lexer": "ipython3",
   "version": "3.7.5"
  }
 },
 "nbformat": 4,
 "nbformat_minor": 2
}
